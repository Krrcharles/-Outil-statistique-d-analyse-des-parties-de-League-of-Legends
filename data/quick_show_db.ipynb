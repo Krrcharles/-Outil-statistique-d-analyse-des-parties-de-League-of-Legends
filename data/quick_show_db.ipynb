{
 "cells": [
  {
   "cell_type": "code",
   "execution_count": 3,
   "metadata": {},
   "outputs": [
    {
     "name": "stdout",
     "output_type": "stream",
     "text": [
      "                                           summonerId      summonerName  \\\n",
      "0    CYi9inPQJ_6FfbMlP92Kdf0RBwuH1VYmsGtgqU-VZ9f86lgr            T1 FSZ   \n",
      "1     SAUQa1Tf-cmundUP30CZD2rEFH71u6n2fYfBUa1jUcfF1JE        STEND 2026   \n",
      "2    7aKaSHFRX3v2b1tL7K54DfRSZr-fsxMCFMltwmpfgK1OZnte         EUSEUSEUS   \n",
      "3     cx5Y41rbI-NXin9wEdKfSHcsoOJQjqgdJokHSNcQpXa2oWU        JG top boy   \n",
      "4     CLSvhaSE7EK4uStlIEsfJ_8bsuV8yuhRNlbUcl_fd7Qan74             Shëun   \n",
      "..                                                ...               ...   \n",
      "295   TB7Ve6-aE6hqsIAYQsW0zB-SBgqmYClKjNF3Fdb3PXfXKio     l will engage   \n",
      "296   DGEeYSibge7Qej3eO09_gKqk7wX-iakBf1GqGl3bgt-08KE       BurgerMäker   \n",
      "297   L5xFfZN5JjT_jq5ch0NPBdtvkaG1jPBlzVlXI0agrbTGJK0   David Goggins 1   \n",
      "298  7JacGVSXeBJ1KVgoEVVuHpyIbLT55VSc5r0DHQt9agVUaF6q    Angel ôf Death   \n",
      "299   P7wlM187WR6qedFlGXhBXeGbHj1vfIPAIGRWSJOeZuFkoR8  MARIABECERRA FAN   \n",
      "\n",
      "     leaguePoints rank  wins  losses  veteran  inactive  freshBlood  \\\n",
      "0            1213    I   235     195        1         0           0   \n",
      "1            1221    I   277     240        0         0           0   \n",
      "2            1030    I   206     170        0         0           1   \n",
      "3            1520    I   287     232        1         0           0   \n",
      "4             987    I   178     123        0         0           1   \n",
      "..            ...  ...   ...     ...      ...       ...         ...   \n",
      "295          1159    I   259     229        1         0           0   \n",
      "296          1114    I    97      57        0         0           0   \n",
      "297          1182    I   216     180        1         0           0   \n",
      "298          1030    I   143     100        0         0           0   \n",
      "299          1173    I   243     206        0         0           0   \n",
      "\n",
      "     hotStreak                                              puuid  level  \\\n",
      "0            0  U6VZgygUjZjYtSegG71z-5cH5LwM334buqlKuxGxWgmvxO...    912   \n",
      "1            0  cnk9Di5MKnv2I0dfiDgefnoLDndqUVQRxeVv3i-0Hvzlk6...    509   \n",
      "2            1  fXKWiYuwwUPmmLpYgCkkhCCJ6EZhcsE3fwdxipaVWcFlFM...    744   \n",
      "3            0  4ltbTnb0922kWuJnZ-MW1uOL6fvVX6mcsYY2J1hzd-iCBo...    741   \n",
      "4            0  fDr_DSLyRaq0FSfyv21Y6CiQUqGhFoIXsoN6iUOG_ZGOaB...    260   \n",
      "..         ...                                                ...    ...   \n",
      "295          0  zNUjgaQMV8Y94KWx6K0GeEJtY-yBrOnsQNdnKdBO6BpanL...    732   \n",
      "296          0  TBgq5w6fhXiEdqJaSgXoCEVE0CQnoUxtXvt8cF4_zU7LpB...    498   \n",
      "297          1  opCiNF_LGEYPl2O7gZ9luoAfQN3oHHr9JrKh5oZGlJfOSV...    631   \n",
      "298          0  mybJzEDSurWd5JQFDmp12Q_x3lKvFpMOhVEAJ-dRBzGsPN...    102   \n",
      "299          0  xu53CWoV7UeRAuhvpEOHp97nrZqwbqC0FkLO3GwmHINnT6...   1140   \n",
      "\n",
      "                                               matches  \n",
      "0    [\"EUW1_6627571462\", \"EUW1_6627524028\", \"EUW1_6...  \n",
      "1    [\"EUW1_6627913011\", \"EUW1_6627833946\", \"EUW1_6...  \n",
      "2    [\"EUW1_6627504160\", \"EUW1_6625296610\", \"EUW1_6...  \n",
      "3    [\"EUW1_6627879600\", \"EUW1_6627722913\", \"EUW1_6...  \n",
      "4    [\"EUW1_6624723668\", \"EUW1_6624688255\", \"EUW1_6...  \n",
      "..                                                 ...  \n",
      "295  [\"EUW1_6627576227\", \"EUW1_6627440130\", \"EUW1_6...  \n",
      "296  [\"EUW1_6626771490\", \"EUW1_6626526926\", \"EUW1_6...  \n",
      "297  [\"EUW1_6624029372\", \"EUW1_6623973145\", \"EUW1_6...  \n",
      "298  [\"EUW1_6608961762\", \"EUW1_6608883174\", \"EUW1_6...  \n",
      "299  [\"EUW1_6627879600\", \"EUW1_6627650874\", \"EUW1_6...  \n",
      "\n",
      "[300 rows x 13 columns]\n"
     ]
    },
    {
     "ename": "DatabaseError",
     "evalue": "Execution failed on sql 'SELECT * from participant': no such table: participant",
     "output_type": "error",
     "traceback": [
      "\u001b[1;31m---------------------------------------------------------------------------\u001b[0m",
      "\u001b[1;31mOperationalError\u001b[0m                          Traceback (most recent call last)",
      "File \u001b[1;32m~\\AppData\\Roaming\\Python\\Python310\\site-packages\\pandas\\io\\sql.py:2018\u001b[0m, in \u001b[0;36mSQLiteDatabase.execute\u001b[1;34m(self, *args, **kwargs)\u001b[0m\n\u001b[0;32m   2017\u001b[0m \u001b[39mtry\u001b[39;00m:\n\u001b[1;32m-> 2018\u001b[0m     cur\u001b[39m.\u001b[39mexecute(\u001b[39m*\u001b[39margs, \u001b[39m*\u001b[39m\u001b[39m*\u001b[39mkwargs)\n\u001b[0;32m   2019\u001b[0m     \u001b[39mreturn\u001b[39;00m cur\n",
      "\u001b[1;31mOperationalError\u001b[0m: no such table: participant",
      "\nThe above exception was the direct cause of the following exception:\n",
      "\u001b[1;31mDatabaseError\u001b[0m                             Traceback (most recent call last)",
      "\u001b[1;32mc:\\Users\\charl\\Desktop\\Outil-statistique-d-analyse-des-parties-de-League-of-Legends\\data\\quick_show_db.ipynb Cell 1\u001b[0m line \u001b[0;36m1\n\u001b[0;32m      <a href='vscode-notebook-cell:/c%3A/Users/charl/Desktop/Outil-statistique-d-analyse-des-parties-de-League-of-Legends/data/quick_show_db.ipynb#W0sZmlsZQ%3D%3D?line=8'>9</a>\u001b[0m \u001b[39mprint\u001b[39m(df1)\n\u001b[0;32m     <a href='vscode-notebook-cell:/c%3A/Users/charl/Desktop/Outil-statistique-d-analyse-des-parties-de-League-of-Legends/data/quick_show_db.ipynb#W0sZmlsZQ%3D%3D?line=10'>11</a>\u001b[0m \u001b[39m# Lire la table depuis cette base de données et l'afficher\u001b[39;00m\n\u001b[1;32m---> <a href='vscode-notebook-cell:/c%3A/Users/charl/Desktop/Outil-statistique-d-analyse-des-parties-de-League-of-Legends/data/quick_show_db.ipynb#W0sZmlsZQ%3D%3D?line=11'>12</a>\u001b[0m df2 \u001b[39m=\u001b[39m pd\u001b[39m.\u001b[39;49mread_sql_query(\u001b[39m\"\u001b[39;49m\u001b[39mSELECT * from participant\u001b[39;49m\u001b[39m\"\u001b[39;49m, conn)\n\u001b[0;32m     <a href='vscode-notebook-cell:/c%3A/Users/charl/Desktop/Outil-statistique-d-analyse-des-parties-de-League-of-Legends/data/quick_show_db.ipynb#W0sZmlsZQ%3D%3D?line=12'>13</a>\u001b[0m \u001b[39mprint\u001b[39m(df2)\n\u001b[0;32m     <a href='vscode-notebook-cell:/c%3A/Users/charl/Desktop/Outil-statistique-d-analyse-des-parties-de-League-of-Legends/data/quick_show_db.ipynb#W0sZmlsZQ%3D%3D?line=14'>15</a>\u001b[0m df3 \u001b[39m=\u001b[39m pd\u001b[39m.\u001b[39mread_sql_query(\u001b[39m\"\u001b[39m\u001b[39mSELECT * from utilisateurs\u001b[39m\u001b[39m\"\u001b[39m, conn)\n",
      "File \u001b[1;32m~\\AppData\\Roaming\\Python\\Python310\\site-packages\\pandas\\io\\sql.py:397\u001b[0m, in \u001b[0;36mread_sql_query\u001b[1;34m(sql, con, index_col, coerce_float, params, parse_dates, chunksize, dtype)\u001b[0m\n\u001b[0;32m    339\u001b[0m \u001b[39m\u001b[39m\u001b[39m\"\"\"\u001b[39;00m\n\u001b[0;32m    340\u001b[0m \u001b[39mRead SQL query into a DataFrame.\u001b[39;00m\n\u001b[0;32m    341\u001b[0m \n\u001b[1;32m   (...)\u001b[0m\n\u001b[0;32m    394\u001b[0m \u001b[39mparameter will be converted to UTC.\u001b[39;00m\n\u001b[0;32m    395\u001b[0m \u001b[39m\"\"\"\u001b[39;00m\n\u001b[0;32m    396\u001b[0m pandas_sql \u001b[39m=\u001b[39m pandasSQL_builder(con)\n\u001b[1;32m--> 397\u001b[0m \u001b[39mreturn\u001b[39;00m pandas_sql\u001b[39m.\u001b[39;49mread_query(\n\u001b[0;32m    398\u001b[0m     sql,\n\u001b[0;32m    399\u001b[0m     index_col\u001b[39m=\u001b[39;49mindex_col,\n\u001b[0;32m    400\u001b[0m     params\u001b[39m=\u001b[39;49mparams,\n\u001b[0;32m    401\u001b[0m     coerce_float\u001b[39m=\u001b[39;49mcoerce_float,\n\u001b[0;32m    402\u001b[0m     parse_dates\u001b[39m=\u001b[39;49mparse_dates,\n\u001b[0;32m    403\u001b[0m     chunksize\u001b[39m=\u001b[39;49mchunksize,\n\u001b[0;32m    404\u001b[0m     dtype\u001b[39m=\u001b[39;49mdtype,\n\u001b[0;32m    405\u001b[0m )\n",
      "File \u001b[1;32m~\\AppData\\Roaming\\Python\\Python310\\site-packages\\pandas\\io\\sql.py:2078\u001b[0m, in \u001b[0;36mSQLiteDatabase.read_query\u001b[1;34m(self, sql, index_col, coerce_float, params, parse_dates, chunksize, dtype)\u001b[0m\n\u001b[0;32m   2066\u001b[0m \u001b[39mdef\u001b[39;00m \u001b[39mread_query\u001b[39m(\n\u001b[0;32m   2067\u001b[0m     \u001b[39mself\u001b[39m,\n\u001b[0;32m   2068\u001b[0m     sql,\n\u001b[1;32m   (...)\u001b[0m\n\u001b[0;32m   2074\u001b[0m     dtype: DtypeArg \u001b[39m|\u001b[39m \u001b[39mNone\u001b[39;00m \u001b[39m=\u001b[39m \u001b[39mNone\u001b[39;00m,\n\u001b[0;32m   2075\u001b[0m ) \u001b[39m-\u001b[39m\u001b[39m>\u001b[39m DataFrame \u001b[39m|\u001b[39m Iterator[DataFrame]:\n\u001b[0;32m   2077\u001b[0m     args \u001b[39m=\u001b[39m _convert_params(sql, params)\n\u001b[1;32m-> 2078\u001b[0m     cursor \u001b[39m=\u001b[39m \u001b[39mself\u001b[39;49m\u001b[39m.\u001b[39;49mexecute(\u001b[39m*\u001b[39;49margs)\n\u001b[0;32m   2079\u001b[0m     columns \u001b[39m=\u001b[39m [col_desc[\u001b[39m0\u001b[39m] \u001b[39mfor\u001b[39;00m col_desc \u001b[39min\u001b[39;00m cursor\u001b[39m.\u001b[39mdescription]\n\u001b[0;32m   2081\u001b[0m     \u001b[39mif\u001b[39;00m chunksize \u001b[39mis\u001b[39;00m \u001b[39mnot\u001b[39;00m \u001b[39mNone\u001b[39;00m:\n",
      "File \u001b[1;32m~\\AppData\\Roaming\\Python\\Python310\\site-packages\\pandas\\io\\sql.py:2030\u001b[0m, in \u001b[0;36mSQLiteDatabase.execute\u001b[1;34m(self, *args, **kwargs)\u001b[0m\n\u001b[0;32m   2027\u001b[0m     \u001b[39mraise\u001b[39;00m ex \u001b[39mfrom\u001b[39;00m \u001b[39minner_exc\u001b[39;00m\n\u001b[0;32m   2029\u001b[0m ex \u001b[39m=\u001b[39m DatabaseError(\u001b[39mf\u001b[39m\u001b[39m\"\u001b[39m\u001b[39mExecution failed on sql \u001b[39m\u001b[39m'\u001b[39m\u001b[39m{\u001b[39;00margs[\u001b[39m0\u001b[39m]\u001b[39m}\u001b[39;00m\u001b[39m'\u001b[39m\u001b[39m: \u001b[39m\u001b[39m{\u001b[39;00mexc\u001b[39m}\u001b[39;00m\u001b[39m\"\u001b[39m)\n\u001b[1;32m-> 2030\u001b[0m \u001b[39mraise\u001b[39;00m ex \u001b[39mfrom\u001b[39;00m \u001b[39mexc\u001b[39;00m\n",
      "\u001b[1;31mDatabaseError\u001b[0m: Execution failed on sql 'SELECT * from participant': no such table: participant"
     ]
    }
   ],
   "source": [
    "import sqlite3\n",
    "import pandas as pd\n",
    "\n",
    "# Connexion à la première base de données\n",
    "conn = sqlite3.connect('database.db')\n",
    "\n",
    "# Lire la table depuis cette base de données et l'afficher\n",
    "df1 = pd.read_sql_query(\"SELECT * from joueur\", conn)\n",
    "print(df1)\n",
    "\n",
    "# Lire la table depuis cette base de données et l'afficher\n",
    "df2 = pd.read_sql_query(\"SELECT * from participant\", conn)\n",
    "print(df2)\n",
    "\n",
    "df3 = pd.read_sql_query(\"SELECT * from utilisateurs\", conn)\n",
    "print(df3)\n",
    "\n",
    "# Fermer la connexion à la première base de données\n",
    "conn.close()\n"
   ]
  },
  {
   "cell_type": "code",
   "execution_count": null,
   "metadata": {},
   "outputs": [],
   "source": []
  }
 ],
 "metadata": {
  "kernelspec": {
   "display_name": "Python 3",
   "language": "python",
   "name": "python3"
  },
  "language_info": {
   "codemirror_mode": {
    "name": "ipython",
    "version": 3
   },
   "file_extension": ".py",
   "mimetype": "text/x-python",
   "name": "python",
   "nbconvert_exporter": "python",
   "pygments_lexer": "ipython3",
   "version": "3.10.6"
  }
 },
 "nbformat": 4,
 "nbformat_minor": 2
}

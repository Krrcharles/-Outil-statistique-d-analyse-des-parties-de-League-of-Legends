{
 "cells": [
  {
   "cell_type": "code",
   "execution_count": null,
   "metadata": {},
   "outputs": [],
   "source": [
    "import sqlite3\n",
    "import pandas as pd\n",
    "import json\n",
    "\n",
    "# Connexion à la première base de données\n",
    "conn = sqlite3.connect('database.db')\n",
    "# Lire la table depuis cette base de données et l'afficher\n",
    "df = pd.read_sql_query(\"SELECT * from participant\", conn)[['matchId', 'teamId', 'win', 'championName']]\n",
    "\n",
    "# Fermer la connexion à la première base de données\n",
    "conn.close()\n",
    "df\n",
    "\n"
   ]
  },
  {
   "cell_type": "code",
   "execution_count": 77,
   "metadata": {},
   "outputs": [
    {
     "data": {
      "text/html": [
       "<div>\n",
       "<style scoped>\n",
       "    .dataframe tbody tr th:only-of-type {\n",
       "        vertical-align: middle;\n",
       "    }\n",
       "\n",
       "    .dataframe tbody tr th {\n",
       "        vertical-align: top;\n",
       "    }\n",
       "\n",
       "    .dataframe thead th {\n",
       "        text-align: right;\n",
       "    }\n",
       "</style>\n",
       "<table border=\"1\" class=\"dataframe\">\n",
       "  <thead>\n",
       "    <tr style=\"text-align: right;\">\n",
       "      <th></th>\n",
       "      <th>matchId</th>\n",
       "      <th>champions</th>\n",
       "      <th>win</th>\n",
       "    </tr>\n",
       "  </thead>\n",
       "  <tbody>\n",
       "    <tr>\n",
       "      <th>0</th>\n",
       "      <td>a</td>\n",
       "      <td>b</td>\n",
       "      <td>c</td>\n",
       "    </tr>\n",
       "    <tr>\n",
       "      <th>1</th>\n",
       "      <td>a</td>\n",
       "      <td>b</td>\n",
       "      <td>c</td>\n",
       "    </tr>\n",
       "  </tbody>\n",
       "</table>\n",
       "</div>"
      ],
      "text/plain": [
       "  matchId champions win\n",
       "0       a         b   c\n",
       "1       a         b   c"
      ]
     },
     "execution_count": 77,
     "metadata": {},
     "output_type": "execute_result"
    }
   ],
   "source": [
    "\n",
    "champion_list = pd.read_json()\n",
    "\n",
    "\n",
    "\n",
    "grouped = df[:20].sort_values('teamId').groupby('matchId')\n",
    "dataset = pd.DataFrame(columns=['matchId', 'champions', 'win'])\n",
    "for id, group in grouped:\n",
    "    \n",
    "    champion_encoded_blue = [0]*len(champion_list)\n",
    "    for champ in group['championName'].iloc[:5]:\n",
    "        champion_encoded_blue[champion_list.index(champ.lower())] = 1\n",
    "\n",
    "    champion_encoded_red = [0]*len(champion_list)\n",
    "    for champ in group['championName'].iloc[5:10]:\n",
    "        champion_encoded_red[champion_list.index(champ.lower())] = 1\n",
    "\n",
    "    champion_encoded = champion_encoded_blue + champion_encoded_red\n",
    "    new_line = pd.DataFrame([[group['matchId'], champion_encoded, 'win']], columns=['matchId', 'champions', 'win'])\n",
    "    dataset = pd.concat([dataset, new_line], ignore_index=True)\n",
    "    \n",
    "dataset"
   ]
  },
  {
   "cell_type": "code",
   "execution_count": null,
   "metadata": {},
   "outputs": [],
   "source": []
  }
 ],
 "metadata": {
  "kernelspec": {
   "display_name": "Python 3",
   "language": "python",
   "name": "python3"
  },
  "language_info": {
   "codemirror_mode": {
    "name": "ipython",
    "version": 3
   },
   "file_extension": ".py",
   "mimetype": "text/x-python",
   "name": "python",
   "nbconvert_exporter": "python",
   "pygments_lexer": "ipython3",
   "version": "3.10.4"
  },
  "orig_nbformat": 4
 },
 "nbformat": 4,
 "nbformat_minor": 2
}
